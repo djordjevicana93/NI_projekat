{
 "cells": [
  {
   "cell_type": "code",
   "execution_count": 11,
   "metadata": {
    "collapsed": true
   },
   "outputs": [],
   "source": [
    "##################UCITAVANJE NEOPHODNIH BIBLIOTEKA###########\n",
    "import numpy as np\n",
    "import matplotlib.pyplot as plt\n",
    "import pandas as pd \n",
    "import random as rd\n",
    "import math \n",
    "from bokeh.plotting import figure\n",
    "from sklearn.decomposition import PCA\n",
    "from sklearn.decomposition import PCA\n",
    "import matplotlib\n",
    "%matplotlib inline"
   ]
  },
  {
   "cell_type": "code",
   "execution_count": 12,
   "metadata": {
    "collapsed": false
   },
   "outputs": [],
   "source": [
    "###################CENTAR GRAVITACIJE#####################\n",
    "def center_of_gravity(data):\n",
    "    columns = []\n",
    "    for col in data.columns:\n",
    "        columns.append(data[col].values)\n",
    "\n",
    "    center_of_gravity_array = []\n",
    "\n",
    "    for i in columns:\n",
    "        i_coordinate = sum(i) / len(i)\n",
    "        center_of_gravity_array.append(i_coordinate)\n",
    "    \n",
    "    return center_of_gravity_array"
   ]
  },
  {
   "cell_type": "code",
   "execution_count": 13,
   "metadata": {
    "collapsed": true
   },
   "outputs": [],
   "source": [
    "#################INICIJALIZACIJA CENTARA###############\n",
    "def center_initialization(data, num_of_clusters):\n",
    "\n",
    "    center_array = []\n",
    "    max_index_array = []\n",
    "    random_center_index = rd.randint(0, len(data)-1)\n",
    "\n",
    "    #dodaj index koji je uzet\n",
    "    max_index_array.append(random_center_index)\n",
    "\n",
    "    #biramo proizvoljnu tacku za centar\n",
    "    center_array.append(data.ix[random_center_index].values)\n",
    "\n",
    "    #num_of_clusters puta racunam tacke\n",
    "    for i in range(0, num_of_clusters-1):\n",
    "\n",
    "        distance_array_arrays = []\n",
    "        #prvi put ce biti samo jedan, pa dva, pa tri itd\n",
    "        for center in center_array:\n",
    "            #za svaki centar racunam rastojanje od svih tacaka u skupu\n",
    "            distance_array = []\n",
    "            for index, row in data.iterrows():\n",
    "                distance = 0\n",
    "                point = data.ix[index].values\n",
    "                for p in range(0, len(center)):\n",
    "                    distance = distance + (point[p] - center[p]) * (point[p] - center[p])\n",
    "                distance_array.append(distance) #za 1 centar dodaj rastojanje od tacke\n",
    "            #dodaj sva rastojanja za 1 centar\n",
    "            distance_array_arrays.append(distance_array)\n",
    "\n",
    "\n",
    "        center = []\n",
    "        for k in range(0, len(distance_array_arrays[0])):\n",
    "            summ = 0\n",
    "            for j in range(0, len(distance_array_arrays)):\n",
    "                summ += distance_array_arrays[j][k]\n",
    "            center.append(summ)\n",
    "\n",
    "        #da se osiguramo da nece biti uzete dve iste tacke za centar\n",
    "        while (1):\n",
    "            #da uklonimo duplikate\n",
    "            center = list(set(center))\n",
    "            max_value = max(center)\n",
    "            max_index = center.index(max_value)\n",
    "            if (max_index not in max_index_array):\n",
    "                max_index_array.append(max_index)\n",
    "                center_array.append(data.ix[max_index].values)\n",
    "                break\n",
    "            else:\n",
    "                center.remove(center[max_index])\n",
    "\n",
    "\n",
    "    return center_array\n",
    "        "
   ]
  },
  {
   "cell_type": "code",
   "execution_count": 14,
   "metadata": {
    "collapsed": true
   },
   "outputs": [],
   "source": [
    "##################GLAVNI DEO, EXPECTATION MAXIMIZATION ALGORITAM#################\n",
    "\n",
    "def EM_procedure(num_of_clusters, data, beta, num_iterations, center_array, num_data, num_attributes):\n",
    "    # inicijalizacija tzv \"skrivene\" matrice\n",
    "    hidden_matrix = np.zeros([num_of_clusters, num_data])\n",
    "\n",
    "    for param in range(0, num_iterations):\n",
    "\n",
    "        data_points_array = []\n",
    "\n",
    "        #########################KORAK od centara do klastera#############################\n",
    "        for index, row in data.iterrows():\n",
    "\n",
    "            #print ('Iteracija ' + str(index))\n",
    "            # racunamo za svaku tacku rastojanje do svih centara\n",
    "            point = data.ix[index].values\n",
    "\n",
    "            # ispisi su za debagovanje\n",
    "            #print ('Tacka: ' + str(point))\n",
    "\n",
    "            point_center_distance_array = []\n",
    "            data_points_array.append(point)\n",
    "\n",
    "            for center in center_array:\n",
    "                # prvo racunamo obicno rastojanje izmedju centra i tacke\n",
    "                distance = 0\n",
    "                for p in range(0, len(point)):\n",
    "                    distance = distance + (point[p] - center[p]) * (point[p] - center[p])\n",
    "\n",
    "                #print ('Centar ' + str(center) + ' rastojanje ' + str(p) + ' ' + str(point) + '=' + str(distance))\n",
    "\n",
    "                # a zatim racunamo vrednost partition funkcije po kojoj formiramo skrivenu matricu\n",
    "                partition_function = math.exp(math.sqrt(distance) * (-beta))\n",
    "\n",
    "                #print ('Centar ' + str(center) + ' novo rastojanje ' + str(p) + ' ' + str(point) + '=' + str(partition_function))\n",
    "\n",
    "                point_center_distance_array.append(partition_function)\n",
    "\n",
    "            sum_point_center_distance = sum(point_center_distance_array)\n",
    "\n",
    "            if (sum_point_center_distance == 0):\n",
    "                print ('Sranje')\n",
    "                print (index)\n",
    "                print (sum_point_center_distance)\n",
    "\n",
    "            # print ('Partition function' + str(point_center_distance_array))\n",
    "            # print ('Sume rastojanja centara od tacke ' + str(sum_point_center_distance))\n",
    "\n",
    "            for num_centers in range(0, num_of_clusters):\n",
    "                hidden_matrix[num_centers, index] = point_center_distance_array[num_centers] / sum_point_center_distance\n",
    "                # print ('Hidden matrix: ' + str(hidden_matrix))\n",
    "\n",
    "        ####################KORAK od klastera do novih centara########################\n",
    "\n",
    "        center_array = []\n",
    "        new_coordinate_of_center_i = 0\n",
    "\n",
    "        # print ('Tacke: ' + str(data_points_array))\n",
    "        for i in range(0, num_of_clusters):\n",
    "            new_center = []\n",
    "\n",
    "            sum_of_i_row = sum(hidden_matrix[i])\n",
    "\n",
    "            # racunanje novih koordinata centara na osnovu skrivene matrice\n",
    "            for num_coord in range(0, num_attributes):\n",
    "                new_coordinate_of_center_i = 0\n",
    "                for dp in range(0, len(data_points_array)):\n",
    "                    # print (str(hidden_matrix[i, dp]) + ' ' + str(data_points_array[dp][num_coord]))\n",
    "                    new_coordinate_of_center_i += (hidden_matrix[i, dp] * data_points_array[dp][num_coord])\n",
    "\n",
    "                new_coordinate_of_center_i = new_coordinate_of_center_i / sum_of_i_row\n",
    "                new_center.append(new_coordinate_of_center_i)\n",
    "\n",
    "            center_array.append(new_center)\n",
    "\n",
    "            # print ('Novi centri' + str(center_array))\n",
    "\n",
    "    return center_array, hidden_matrix, data_points_array"
   ]
  },
  {
   "cell_type": "code",
   "execution_count": 15,
   "metadata": {
    "collapsed": true
   },
   "outputs": [],
   "source": [
    "#####################DODELJIVANJE TACAKA KLASTERIMA###################\n",
    "\n",
    "def cluster_creating(cols, data_points_array, hidden_matrix):\n",
    "    # inicijalizacija klastera\n",
    "    data_cluster = {}\n",
    "\n",
    "    for i in range(0, len(hidden_matrix[0])):\n",
    "        hidden_matrix_column = hidden_matrix[:, i]\n",
    "        max_hidden_matrix_column = hidden_matrix_column.argmax()\n",
    "        key = max_hidden_matrix_column\n",
    "        if key in data_cluster.keys():\n",
    "            data_cluster[key].append(data_points_array[i])\n",
    "        else:\n",
    "            data_cluster[key] = []\n",
    "            data_cluster[key].append(data_points_array[i])\n",
    "\n",
    "    dataframe = pd.DataFrame(list(data_cluster.items()), columns=['Center', 'Points'])\n",
    "\n",
    "    ################FORMIRANJE NOVOG DATAFRAME-a SA INFORMACIJOM O KLASTERU\n",
    "\n",
    "    new_dataframe = pd.DataFrame(columns=cols)\n",
    "\n",
    "    index_data_points = -1\n",
    "\n",
    "    for index, row in dataframe.iterrows():\n",
    "        center = row.values[0]\n",
    "        array_of_points = row.values[1]\n",
    "        for i in array_of_points:\n",
    "            index_data_points += 1\n",
    "            for j in range(0, len(i)):\n",
    "                point = []\n",
    "                new_dataframe.set_value(index_data_points, cols[j], i[j])\n",
    "                new_dataframe.set_value(index_data_points, 'cluster', center)\n",
    "\n",
    "    return new_dataframe\n"
   ]
  },
  {
   "cell_type": "code",
   "execution_count": 16,
   "metadata": {
    "collapsed": true
   },
   "outputs": [],
   "source": [
    "#################PRIKAZIVANJE REZULTATA####################\n",
    "def visualize(num_of_clusters, new_dataframe, cluster_column, num_attributes, cols):\n",
    "    colors = matplotlib.cm.rainbow(np.linspace(0, 1, num_of_clusters))\n",
    "\n",
    "    for index, row in new_dataframe.iterrows():\n",
    "        point = new_dataframe.ix[index].values\n",
    "        col = point[cluster_column]\n",
    "        point = point[:-1]\n",
    "        if (len(point) > 2):\n",
    "            plt.plot(point, color=colors[col])\n",
    "            # else:\n",
    "            #   name = 'cluster #' + str(int(col))\n",
    "            #  plt.plot(point, 0, color = colors[col], marker='o', markersize=10. label = name)\n",
    "    plt.show()\n",
    "\n",
    "    plt.style.use('ggplot')\n",
    "\n",
    "    fig, ax = plt.subplots(figsize=(10, 8))\n",
    "    ax.set_prop_cycle(color=colors)\n",
    "    ax.margins(0.05)\n",
    "\n",
    "    p = figure(x_axis_label='Component A', y_axis_label='Component B')\n",
    "\n",
    "    if (num_attributes > 3):\n",
    "\n",
    "        # redukcija dimenzionalnosti\n",
    "        pca = PCA(n_components=2)\n",
    "        pca.fit(new_dataframe[cols[:-1]].transpose())\n",
    "\n",
    "        low_dimensional_frame = pd.DataFrame(pca.components_.T, columns=['component_a', 'component_b'])\n",
    "        low_dimensional_frame['cluster'] = new_dataframe['cluster']\n",
    "\n",
    "        for i in range(0, num_of_clusters):\n",
    "            cluster_variable = low_dimensional_frame[low_dimensional_frame.cluster == i]\n",
    "            p.circle(x=cluster_variable['component_a'], y=cluster_variable['component_b'], color=colors[i], size=10,\n",
    "                     alpha=0.8)\n",
    "\n",
    "        groups = low_dimensional_frame.groupby('cluster')\n",
    "\n",
    "        for name, group in groups:\n",
    "            name = 'cluster #' + str(int(name) + 1)\n",
    "            ax.plot(group.component_a, group.component_b, marker='o', linestyle='', ms=12, label=name)\n",
    "        ax.legend(numpoints=1, loc='upper left')\n",
    "\n",
    "        plt.show()\n",
    "\n",
    "    elif (num_attributes == 2):\n",
    "\n",
    "        for i in range(0, num_of_clusters):\n",
    "            cluster_variable = new_dataframe[new_dataframe.cluster == i]\n",
    "            p.circle(x=cluster_variable[cols[0]], y=cluster_variable[cols[1]], color=colors[i], size=10, alpha=0.8)\n",
    "\n",
    "        groups = new_dataframe.groupby('cluster')\n",
    "\n",
    "        for name, group in groups:\n",
    "            name = 'cluster #' + str(int(name) + 1)\n",
    "            ax.plot(group.x, group.y, marker='o', linestyle='', ms=12, label=name)\n",
    "        ax.legend(numpoints=1, loc='upper left')\n",
    "\n",
    "        plt.show()\n"
   ]
  },
  {
   "cell_type": "code",
   "execution_count": 17,
   "metadata": {
    "collapsed": false
   },
   "outputs": [
    {
     "name": "stdout",
     "output_type": "stream",
     "text": [
      "[array([-0.28, -0.23, -0.19, -0.19, -0.32, -0.18, -0.18]), array([ 0.15,  0.15,  0.17,  0.09,  0.07,  0.09,  0.07]), array([-0.19, -0.15,  0.03,  0.27,  0.54,  3.64,  2.74])]\n"
     ]
    },
    {
     "data": {
      "image/png": "[encoded data removed]",
      "text/plain": [
       "<matplotlib.figure.Figure at 0x11434dd30>"
      ]
     },
     "metadata": {},
     "output_type": "display_data"
    },
    {
     "name": "stderr",
     "output_type": "stream",
     "text": [
      "/Users/milicakojicic/anaconda/lib/python3.6/site-packages/bokeh/models/sources.py:81: BokehUserWarning: ColumnDataSource's columns must be of the same length\n",
      "  lambda: warnings.warn(\"ColumnDataSource's columns must be of the same length\", BokehUserWarning))\n",
      "/Users/milicakojicic/anaconda/lib/python3.6/site-packages/bokeh/models/sources.py:81: BokehUserWarning: ColumnDataSource's columns must be of the same length\n",
      "  lambda: warnings.warn(\"ColumnDataSource's columns must be of the same length\", BokehUserWarning))\n",
      "/Users/milicakojicic/anaconda/lib/python3.6/site-packages/bokeh/models/sources.py:81: BokehUserWarning: ColumnDataSource's columns must be of the same length\n",
      "  lambda: warnings.warn(\"ColumnDataSource's columns must be of the same length\", BokehUserWarning))\n",
      "/Users/milicakojicic/anaconda/lib/python3.6/site-packages/bokeh/models/sources.py:81: BokehUserWarning: ColumnDataSource's columns must be of the same length\n",
      "  lambda: warnings.warn(\"ColumnDataSource's columns must be of the same length\", BokehUserWarning))\n"
     ]
    },
    {
     "data": {
      "image/png": "[encoded data removed]",
      "text/plain": [
       "<matplotlib.figure.Figure at 0x1142bd780>"
      ]
     },
     "metadata": {},
     "output_type": "display_data"
    },
    {
     "data": {
      "text/html": [
       "<script>\n",
       "code_show_err=false; \n",
       "function code_toggle_err() {\n",
       " if (code_show_err){\n",
       " $('div.output_stderr').hide();\n",
       " } else {\n",
       " $('div.output_stderr').show();\n",
       " }\n",
       " code_show_err = !code_show_err\n",
       "} \n",
       "$( document ).ready(code_toggle_err);\n",
       "</script>\n",
       "To toggle on/off output_stderr, click <a href=\"javascript:code_toggle_err()\">here</a>."
      ],
      "text/plain": [
       "<IPython.core.display.HTML object>"
      ]
     },
     "execution_count": 17,
     "metadata": {},
     "output_type": "execute_result"
    }
   ],
   "source": [
    "#################################GENI KVASCA############################\n",
    "\n",
    "#broj klastera\n",
    "num_of_clusters = 3\n",
    "\n",
    "#broj iteracija\n",
    "num_iterations = 200\n",
    "\n",
    "#parametar beta\n",
    "beta = 0.7\n",
    "\n",
    "#ucitavamo .csv fajl sa genskim ekspresijama\n",
    "#(samo ih je 10, radi lakse ilustracije i brzeg rada programa)\n",
    "\n",
    "data_yeast = pd.read_csv('10_yeast_genes.csv', '\\t')\n",
    "\n",
    "#brisemo nedostajuce vrednosti\n",
    "data_yeast = data_yeast.dropna()\n",
    "\n",
    "#za posebne fajlove, kada je prva kolona npr identifikator gena,\n",
    "#pa necemo da je uzimamo u obzir\n",
    "#data = data[cols[1:]]\n",
    "#data = data.reset_index(drop=True)\n",
    "\n",
    "#odredjivanje dimenzija matrice, odnosno dataframe-a\n",
    "shape = data_yeast.shape\n",
    "num_attributes_yeast = shape[1]\n",
    "num_data_yeast = shape[0]\n",
    "\n",
    "#nazivi kolona i dodavanje nove kolone za klaster\n",
    "cols_yeast = list(data_yeast)\n",
    "cols_yeast.append('cluster')\n",
    "\n",
    "#pozivi funkcija\n",
    "center_array_yeast = center_initialization(data_yeast, num_of_clusters)\n",
    "print(center_array_yeast)\n",
    "center_array_yeast, hidden_matrix_yeast, data_points_array_yeast = EM_procedure(num_of_clusters, data_yeast, beta, num_iterations, center_array_yeast, num_data_yeast, num_attributes_yeast)\n",
    "new_dataframe_yeast = cluster_creating(cols_yeast, data_points_array_yeast, hidden_matrix_yeast)\n",
    "visualize(num_of_clusters, new_dataframe_yeast, 7, num_attributes_yeast, cols_yeast)\n",
    "\n",
    "##################IZVOZ PODATAKA U .CSV FORMAT########\n",
    "for i in reversed(range(0, num_of_clusters)):\n",
    "    new_dataframe_yeast.loc[new_dataframe_yeast['cluster'] == i, 'cluster'] = i+1\n",
    "new_dataframe_yeast.to_csv('yeast_gene_expression.csv', index = False)\n",
    "\n",
    "########NECEMO DA NAM SE PRIKAZUJU CRVENI WARNING#########\n",
    "from IPython.display import HTML\n",
    "HTML('''<script>\n",
    "code_show_err=false; \n",
    "function code_toggle_err() {\n",
    " if (code_show_err){\n",
    " $('div.output_stderr').hide();\n",
    " } else {\n",
    " $('div.output_stderr').show();\n",
    " }\n",
    " code_show_err = !code_show_err\n",
    "} \n",
    "$( document ).ready(code_toggle_err);\n",
    "</script>\n",
    "To toggle on/off output_stderr, click <a href=\"javascript:code_toggle_err()\">here</a>.''')"
   ]
  },
  {
   "cell_type": "code",
   "execution_count": 18,
   "metadata": {
    "collapsed": false
   },
   "outputs": [
    {
     "name": "stdout",
     "output_type": "stream",
     "text": [
      "[array([ 0.996,  0.   ]), array([ 1.821,  0.   ]), array([ 0.55,  0.  ])]\n"
     ]
    },
    {
     "name": "stderr",
     "output_type": "stream",
     "text": [
      "/Users/milicakojicic/anaconda/lib/python3.6/site-packages/bokeh/models/sources.py:81: BokehUserWarning: ColumnDataSource's columns must be of the same length\n",
      "  lambda: warnings.warn(\"ColumnDataSource's columns must be of the same length\", BokehUserWarning))\n",
      "/Users/milicakojicic/anaconda/lib/python3.6/site-packages/bokeh/models/sources.py:81: BokehUserWarning: ColumnDataSource's columns must be of the same length\n",
      "  lambda: warnings.warn(\"ColumnDataSource's columns must be of the same length\", BokehUserWarning))\n",
      "/Users/milicakojicic/anaconda/lib/python3.6/site-packages/bokeh/models/sources.py:81: BokehUserWarning: ColumnDataSource's columns must be of the same length\n",
      "  lambda: warnings.warn(\"ColumnDataSource's columns must be of the same length\", BokehUserWarning))\n",
      "/Users/milicakojicic/anaconda/lib/python3.6/site-packages/bokeh/models/sources.py:81: BokehUserWarning: ColumnDataSource's columns must be of the same length\n",
      "  lambda: warnings.warn(\"ColumnDataSource's columns must be of the same length\", BokehUserWarning))\n",
      "/Users/milicakojicic/anaconda/lib/python3.6/site-packages/bokeh/models/sources.py:81: BokehUserWarning: ColumnDataSource's columns must be of the same length\n",
      "  lambda: warnings.warn(\"ColumnDataSource's columns must be of the same length\", BokehUserWarning))\n",
      "/Users/milicakojicic/anaconda/lib/python3.6/site-packages/bokeh/models/sources.py:81: BokehUserWarning: ColumnDataSource's columns must be of the same length\n",
      "  lambda: warnings.warn(\"ColumnDataSource's columns must be of the same length\", BokehUserWarning))\n"
     ]
    },
    {
     "data": {
      "image/png": "[encoded data removed]",
      "text/plain": [
       "<matplotlib.figure.Figure at 0x1147e5198>"
      ]
     },
     "metadata": {},
     "output_type": "display_data"
    },
    {
     "name": "stderr",
     "output_type": "stream",
     "text": [
      "/Users/milicakojicic/anaconda/lib/python3.6/site-packages/bokeh/models/sources.py:81: BokehUserWarning: ColumnDataSource's columns must be of the same length\n",
      "  lambda: warnings.warn(\"ColumnDataSource's columns must be of the same length\", BokehUserWarning))\n",
      "/Users/milicakojicic/anaconda/lib/python3.6/site-packages/bokeh/models/sources.py:81: BokehUserWarning: ColumnDataSource's columns must be of the same length\n",
      "  lambda: warnings.warn(\"ColumnDataSource's columns must be of the same length\", BokehUserWarning))\n",
      "/Users/milicakojicic/anaconda/lib/python3.6/site-packages/bokeh/models/sources.py:81: BokehUserWarning: ColumnDataSource's columns must be of the same length\n",
      "  lambda: warnings.warn(\"ColumnDataSource's columns must be of the same length\", BokehUserWarning))\n",
      "/Users/milicakojicic/anaconda/lib/python3.6/site-packages/bokeh/models/sources.py:81: BokehUserWarning: ColumnDataSource's columns must be of the same length\n",
      "  lambda: warnings.warn(\"ColumnDataSource's columns must be of the same length\", BokehUserWarning))\n"
     ]
    },
    {
     "data": {
      "image/png": "[encoded data removed]",
      "text/plain": [
       "<matplotlib.figure.Figure at 0x114657cf8>"
      ]
     },
     "metadata": {},
     "output_type": "display_data"
    },
    {
     "data": {
      "text/html": [
       "<script>\n",
       "code_show_err=false; \n",
       "function code_toggle_err() {\n",
       " if (code_show_err){\n",
       " $('div.output_stderr').hide();\n",
       " } else {\n",
       " $('div.output_stderr').show();\n",
       " }\n",
       " code_show_err = !code_show_err\n",
       "} \n",
       "$( document ).ready(code_toggle_err);\n",
       "</script>\n",
       "To toggle on/off output_stderr, click <a href=\"javascript:code_toggle_err()\">here</a>."
      ],
      "text/plain": [
       "<IPython.core.display.HTML object>"
      ]
     },
     "execution_count": 18,
     "metadata": {},
     "output_type": "execute_result"
    }
   ],
   "source": [
    "#########################TUMOR-NORMAL GENI - POTENCIJALNI BIOMARKERI##################\n",
    "\n",
    "#broj klastera\n",
    "num_of_clusters = 3\n",
    "\n",
    "#broj iteracija\n",
    "num_iterations = 1000\n",
    "\n",
    "#parametar beta\n",
    "beta = 3\n",
    "\n",
    "#ucitavamo .csv fajl sa genskim ekspresijama\n",
    "data_t_n = pd.read_csv('t_n_colon.csv/malo_gena.csv', ',')\n",
    "\n",
    "#brisemo nedostajuce vrednosti\n",
    "data_t_n  = data_t_n .dropna()\n",
    "\n",
    "#za posebne fajlove, kada je prva kolona npr identifikator gena,\n",
    "#pa necemo da je uzimamo u obzir\n",
    "#data = data[cols[1:]]|\n",
    "data_t_n = data_t_n.reset_index(drop=True)\n",
    "\n",
    "data_tumor = pd.DataFrame(data_t_n['Intensity in Tumor'])\n",
    "data_tumor.columns = ['x']\n",
    "data_tumor['y'] = 0\n",
    "\n",
    "data_normal = pd.DataFrame(data_t_n['Intensity in Normal'])\n",
    "data_normal.columns = ['x']\n",
    "data_normal['y'] = 0\n",
    "\n",
    "#normalizacija podataka\n",
    "data_tumor = data_tumor / 100\n",
    "data_normal = data_normal / 100\n",
    "\n",
    "shape_t_n = data_tumor.shape\n",
    "num_attributes_t_n = shape_t_n[1]\n",
    "num_data_t_n = shape_t_n[0]\n",
    "\n",
    "#nazivi kolona\n",
    "cols_tumor = list(data_tumor)\n",
    "cols_tumor.append('cluster')\n",
    "\n",
    "cols_normal = list(data_normal)\n",
    "cols_normal.append('cluster')\n",
    "\n",
    "######TUMOR KLASTER#####\n",
    "center_array_tumor = center_initialization(data_tumor, num_of_clusters)\n",
    "center_array_tumor, hidden_matrix_tumor, data_points_array_tumor = EM_procedure(num_of_clusters, data_tumor, beta, num_iterations, center_array_tumor, num_data_t_n, num_attributes_t_n)\n",
    "new_dataframe_tumor = cluster_creating(cols_tumor, data_points_array_tumor, hidden_matrix_tumor)\n",
    "\n",
    "\n",
    "######NORMAL KLASTER#####\n",
    "center_array_normal = center_initialization(data_normal, num_of_clusters)\n",
    "print (center_array_normal)\n",
    "center_array_normal, hidden_matrix_normal, data_points_array_normal = EM_procedure(num_of_clusters, data_normal, beta, num_iterations, center_array_normal, num_data_t_n, num_attributes_t_n)\n",
    "new_dataframe_normal = cluster_creating(cols_normal, data_points_array_normal, hidden_matrix_normal)\n",
    "\n",
    "\n",
    "##############VIZUALIZACIJA I TUMORA I NORMALA################\n",
    "visualize(num_of_clusters, new_dataframe_tumor, 1, num_attributes_t_n, cols_tumor)\n",
    "visualize(num_of_clusters, new_dataframe_normal, 1, num_attributes_t_n, cols_normal)\n",
    "\n",
    "\n",
    "##################IZVOZ PODATAKA U .CSV FORMAT########\n",
    "del new_dataframe_tumor['y']\n",
    "del new_dataframe_normal['y']\n",
    "\n",
    "for i in reversed(range(0, num_of_clusters)):\n",
    "    new_dataframe_tumor.loc[new_dataframe_tumor['cluster'] == i, 'cluster'] = i+1\n",
    "new_dataframe_tumor.to_csv('tumor_gene_expression.csv', index = False)\n",
    "\n",
    "for i in reversed(range(0, num_of_clusters)):\n",
    "    new_dataframe_normal.loc[new_dataframe_normal['cluster'] == i, 'cluster'] = i+1\n",
    "new_dataframe_normal.to_csv('normal_gene_expression.csv', index = False)\n",
    "\n",
    "\n",
    "########NECEMO DA NAM SE PRIKAZUJU CRVENI WARNING#########\n",
    "from IPython.display import HTML\n",
    "HTML('''<script>\n",
    "code_show_err=false; \n",
    "function code_toggle_err() {\n",
    " if (code_show_err){\n",
    " $('div.output_stderr').hide();\n",
    " } else {\n",
    " $('div.output_stderr').show();\n",
    " }\n",
    " code_show_err = !code_show_err\n",
    "} \n",
    "$( document ).ready(code_toggle_err);\n",
    "</script>\n",
    "To toggle on/off output_stderr, click <a href=\"javascript:code_toggle_err()\">here</a>.''')"
   ]
  },
  {
   "cell_type": "code",
   "execution_count": null,
   "metadata": {
    "collapsed": true
   },
   "outputs": [],
   "source": []
  },
  {
   "cell_type": "code",
   "execution_count": null,
   "metadata": {
    "collapsed": true
   },
   "outputs": [],
   "source": []
  },
  {
   "cell_type": "code",
   "execution_count": null,
   "metadata": {
    "collapsed": true
   },
   "outputs": [],
   "source": []
  }
 ],
 "metadata": {
  "kernelspec": {
   "display_name": "Python 3",
   "language": "python",
   "name": "python3"
  },
  "language_info": {
   "codemirror_mode": {
    "name": "ipython",
    "version": 3
   },
   "file_extension": ".py",
   "mimetype": "text/x-python",
   "name": "python",
   "nbconvert_exporter": "python",
   "pygments_lexer": "ipython3",
   "version": "3.6.0"
  }
 },
 "nbformat": 4,
 "nbformat_minor": 2
}
